import numpy as np
import surfboard
from sklearn.externals import joblib

def extract_features(filename):
    sig, sr = surfboard.io.load_audio_file(filename)
    features = surfboard.features.extract_all_features(sig, sr, include_mfcc0=True)
    return features

def classify(features):
    clf = joblib.load('classifier.pkl')
    likelihood = clf.predict_proba([features])[0][1]
    return likelihood

if __name__ == '__main__':
    filename = 'audio_file.wav'
    features = extract_features(filename)
    likelihood = classify(features)
    print('Likelihood of cognitive impairment: {:.2f}'.format(likelihood))